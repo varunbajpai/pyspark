{
 "cells": [
  {
   "cell_type": "code",
   "execution_count": 1,
   "id": "19e17dba",
   "metadata": {},
   "outputs": [],
   "source": [
    "from pyspark import SparkContext\n",
    "from operator import add"
   ]
  },
  {
   "cell_type": "code",
   "execution_count": 2,
   "id": "6b1069d4",
   "metadata": {},
   "outputs": [],
   "source": [
    "import pyspark"
   ]
  },
  {
   "cell_type": "code",
   "execution_count": 3,
   "id": "8605d318",
   "metadata": {},
   "outputs": [
    {
     "data": {
      "text/plain": [
       "'3.3.1'"
      ]
     },
     "execution_count": 3,
     "metadata": {},
     "output_type": "execute_result"
    }
   ],
   "source": [
    "pyspark.__version__"
   ]
  },
  {
   "cell_type": "code",
   "execution_count": 4,
   "id": "33460bbf",
   "metadata": {},
   "outputs": [
    {
     "name": "stderr",
     "output_type": "stream",
     "text": [
      "Setting default log level to \"WARN\".\n",
      "To adjust logging level use sc.setLogLevel(newLevel). For SparkR, use setLogLevel(newLevel).\n"
     ]
    },
    {
     "name": "stdout",
     "output_type": "stream",
     "text": [
      "23/01/09 22:07:03 WARN NativeCodeLoader: Unable to load native-hadoop library for your platform... using builtin-java classes where applicable\n"
     ]
    }
   ],
   "source": [
    "sc = SparkContext('local[*]','wordcount')\n",
    "# sc.setLogLevel('INFO')"
   ]
  },
  {
   "cell_type": "code",
   "execution_count": 5,
   "id": "99b7a623",
   "metadata": {},
   "outputs": [],
   "source": [
    "in_file = sc.textFile(\"test.txt\")"
   ]
  },
  {
   "cell_type": "code",
   "execution_count": 6,
   "id": "6b52743b",
   "metadata": {},
   "outputs": [
    {
     "data": {
      "text/plain": [
       "['this is a text', 'this is another text']"
      ]
     },
     "execution_count": 6,
     "metadata": {},
     "output_type": "execute_result"
    }
   ],
   "source": [
    "in_file.collect()"
   ]
  },
  {
   "cell_type": "code",
   "execution_count": 7,
   "id": "5942ae79",
   "metadata": {},
   "outputs": [],
   "source": [
    "#flatMap will apply the same function to each row \n",
    "#One input row will give multiple output rows\n",
    "words = in_file.flatMap(lambda x:x.split(\" \"))"
   ]
  },
  {
   "cell_type": "code",
   "execution_count": 8,
   "id": "9ab35e37",
   "metadata": {},
   "outputs": [
    {
     "name": "stderr",
     "output_type": "stream",
     "text": [
      "                                                                                \r"
     ]
    },
    {
     "data": {
      "text/plain": [
       "['this', 'is', 'a', 'text', 'this', 'is', 'another', 'text']"
      ]
     },
     "execution_count": 8,
     "metadata": {},
     "output_type": "execute_result"
    }
   ],
   "source": [
    "words.collect()"
   ]
  },
  {
   "cell_type": "code",
   "execution_count": 9,
   "id": "c7ff351c",
   "metadata": {},
   "outputs": [],
   "source": [
    "#One input row will give one output row\n",
    "word_count = words.map(lambda x :(x,1))"
   ]
  },
  {
   "cell_type": "code",
   "execution_count": 10,
   "id": "7760a78f",
   "metadata": {},
   "outputs": [
    {
     "data": {
      "text/plain": [
       "[('this', 1),\n",
       " ('is', 1),\n",
       " ('a', 1),\n",
       " ('text', 1),\n",
       " ('this', 1),\n",
       " ('is', 1),\n",
       " ('another', 1),\n",
       " ('text', 1)]"
      ]
     },
     "execution_count": 10,
     "metadata": {},
     "output_type": "execute_result"
    }
   ],
   "source": [
    "word_count.collect()"
   ]
  },
  {
   "cell_type": "code",
   "execution_count": 11,
   "id": "a3f44697",
   "metadata": {},
   "outputs": [],
   "source": [
    "'''\n",
    "the reduceByKey takes in a (K,V) pair\n",
    "and then aggregates based on Keys\n",
    "so in the lambda given below the aggregation is a +\n",
    "this is based on the key\n",
    "if two keys are same then add them\n",
    "syntax is a bit confusing though\n",
    "'''\n",
    "final_count = word_count.reduceByKey(add)"
   ]
  },
  {
   "cell_type": "code",
   "execution_count": 12,
   "id": "656e66bf",
   "metadata": {},
   "outputs": [],
   "source": [
    "result = final_count.collect()"
   ]
  },
  {
   "cell_type": "code",
   "execution_count": 13,
   "id": "4caa68aa",
   "metadata": {},
   "outputs": [
    {
     "data": {
      "text/plain": [
       "[('this', 2), ('is', 2), ('a', 1), ('text', 2), ('another', 1)]"
      ]
     },
     "execution_count": 13,
     "metadata": {},
     "output_type": "execute_result"
    }
   ],
   "source": [
    "result"
   ]
  },
  {
   "cell_type": "code",
   "execution_count": 15,
   "id": "50dd63db",
   "metadata": {},
   "outputs": [
    {
     "data": {
      "text/plain": [
       "defaultdict(int, {'this': 2, 'is': 2, 'a': 1, 'text': 2, 'another': 1})"
      ]
     },
     "execution_count": 15,
     "metadata": {},
     "output_type": "execute_result"
    }
   ],
   "source": [
    "word_count.countByKey()"
   ]
  },
  {
   "cell_type": "code",
   "execution_count": 17,
   "id": "c2bf8be0",
   "metadata": {},
   "outputs": [
    {
     "data": {
      "text/plain": [
       "[('a', 1),\n",
       " ('another', 1),\n",
       " ('is', 1),\n",
       " ('is', 1),\n",
       " ('text', 1),\n",
       " ('text', 1),\n",
       " ('this', 1),\n",
       " ('this', 1)]"
      ]
     },
     "execution_count": 17,
     "metadata": {},
     "output_type": "execute_result"
    }
   ],
   "source": [
    "word_count.sortByKey().collect()"
   ]
  },
  {
   "cell_type": "code",
   "execution_count": null,
   "id": "54ad9ff8",
   "metadata": {},
   "outputs": [],
   "source": []
  }
 ],
 "metadata": {
  "kernelspec": {
   "display_name": "Python 3 (ipykernel)",
   "language": "python",
   "name": "python3"
  },
  "language_info": {
   "codemirror_mode": {
    "name": "ipython",
    "version": 3
   },
   "file_extension": ".py",
   "mimetype": "text/x-python",
   "name": "python",
   "nbconvert_exporter": "python",
   "pygments_lexer": "ipython3",
   "version": "3.9.15"
  }
 },
 "nbformat": 4,
 "nbformat_minor": 5
}
